{
 "cells": [
  {
   "cell_type": "code",
   "execution_count": 28,
   "metadata": {},
   "outputs": [
    {
     "name": "stdout",
     "output_type": "stream",
     "text": [
      "[['hi', 0], ['bye', 0]]\n"
     ]
    }
   ],
   "source": [
    "a = []\n",
    "for i in range(2):\n",
    "    choice = input(\"Enter your choice:\")\n",
    "    a.append([choice,0])\n",
    "print(a)\n"
   ]
  },
  {
   "cell_type": "code",
   "execution_count": 3,
   "metadata": {},
   "outputs": [
    {
     "name": "stdout",
     "output_type": "stream",
     "text": [
      "number is 8, what is yours?\n"
     ]
    }
   ],
   "source": [
    "s = \"My lucky number is %d, what is yours?\" %8\n",
    "print(s[9:])"
   ]
  },
  {
   "cell_type": "code",
   "execution_count": 1,
   "metadata": {},
   "outputs": [
    {
     "name": "stdout",
     "output_type": "stream",
     "text": [
      "2\n"
     ]
    }
   ],
   "source": [
    "import random\n",
    "x = random.randrange(0,10)\n",
    "print(x)"
   ]
  },
  {
   "cell_type": "code",
   "execution_count": 12,
   "metadata": {},
   "outputs": [
    {
     "name": "stdout",
     "output_type": "stream",
     "text": [
      "Man's Search for Meaning\n",
      "['229']\n"
     ]
    }
   ],
   "source": [
    "import bs4\n",
    "import requests\n",
    "import re\n",
    "full_url = \"https://www.goodreads.com/book/show/19306508-man-s-search-for-meaning\"\n",
    "response = requests.get(full_url)\n",
    "soup = bs4.BeautifulSoup(response.text, \"html.parser\")\n",
    "title = soup.find(\"h1\", {\"class\": \"Text\"}).text\n",
    "BookDetails = soup.find(\"div\", {\"class\": \"BookDetails\"})\n",
    "page = BookDetails.find(\"p\",{\"data-testid\" : \"pagesFormat\"}).text\n",
    "page_number = re.findall(r'\\d+', page)\n",
    "print(title)\n",
    "print(page_number)"
   ]
  }
 ],
 "metadata": {
  "kernelspec": {
   "display_name": "Python 3 (ipykernel)",
   "language": "python",
   "name": "python3"
  },
  "language_info": {
   "codemirror_mode": {
    "name": "ipython",
    "version": 3
   },
   "file_extension": ".py",
   "mimetype": "text/x-python",
   "name": "python",
   "nbconvert_exporter": "python",
   "pygments_lexer": "ipython3",
   "version": "3.10.12"
  },
  "orig_nbformat": 4
 },
 "nbformat": 4,
 "nbformat_minor": 2
}
