{
 "cells": [
  {
   "cell_type": "code",
   "execution_count": 1,
   "metadata": {},
   "outputs": [],
   "source": [
    "#importing libraries\n",
    "import json\n",
    "import hashlib\n",
    "import requests"
   ]
  },
  {
   "cell_type": "code",
   "execution_count": null,
   "metadata": {},
   "outputs": [],
   "source": [
    "#load the json file\n",
    "data = json.load(open('bitwarden_export_20240102182707.json'))\n",
    "print(data)"
   ]
  },
  {
   "cell_type": "code",
   "execution_count": null,
   "metadata": {},
   "outputs": [],
   "source": [
    "#dict file containing usernames and passwords\n",
    "dict = {}\n",
    "for item in data['items']:\n",
    "    try:\n",
    "        dict[item['login']['username']] = item['login']['password']\n",
    "    except(KeyError):\n",
    "        pass\n",
    "print(dict)"
   ]
  },
  {
   "cell_type": "code",
   "execution_count": null,
   "metadata": {},
   "outputs": [],
   "source": [
    "#checking if the password and username is leaked or not using haveibeenpwned\n",
    "def check_leaked_password(username, password):\n",
    "    \"\"\"Check if the password has been leaked using haveibeenpwned API\"\"\"\n",
    "    sha1_password = hashlib.sha1(password.encode('utf-8')).hexdigest().upper()\n",
    "    prefix, suffix = sha1_password[:5], sha1_password[5:]\n",
    "    url = f\"https://api.pwnedpasswords.com/range/{prefix}\"\n",
    "    response = requests.get(url)\n",
    "    if response.status_code == 200:\n",
    "        for line in response.text.splitlines():\n",
    "            if suffix in line:\n",
    "                return f\"The password for username '{username}' has been leaked. 1001\"\n",
    "    return f\"The password for username '{username}' has not been leaked.\"\n",
    "\n"
   ]
  },
  {
   "cell_type": "code",
   "execution_count": null,
   "metadata": {},
   "outputs": [],
   "source": [
    "leaked_usernames = []\n",
    "for username, password in dict.items():\n",
    "    check = check_leaked_password(username, password)\n",
    "    if \"1001\" in check:\n",
    "        leaked_usernames.append(username)\n",
    "print(leaked_usernames)\n"
   ]
  },
  {
   "cell_type": "code",
   "execution_count": null,
   "metadata": {},
   "outputs": [],
   "source": [
    "#show the usernames that have been leaked and their passwords\n",
    "for username in leaked_usernames:\n",
    "    print(f\"{username}: {dict[username]}\")"
   ]
  },
  {
   "cell_type": "code",
   "execution_count": null,
   "metadata": {},
   "outputs": [],
   "source": [
    "#find the websites that contain the leaked usernames and passwords and the currusponding username and password\n",
    "for item in data['items']:\n",
    "    try:\n",
    "        if item['login']['username'] in leaked_usernames:\n",
    "            print(item['name'])\n",
    "            print(item['login']['username'])\n",
    "            print(item['login']['password'])\n",
    "            print(\"--------------------------------------------------\")\n",
    "    except(KeyError):\n",
    "        pass"
   ]
  }
 ],
 "metadata": {
  "kernelspec": {
   "display_name": "Python 3 (ipykernel)",
   "language": "python",
   "name": "python3"
  },
  "language_info": {
   "codemirror_mode": {
    "name": "ipython",
    "version": 3
   },
   "file_extension": ".py",
   "mimetype": "text/x-python",
   "name": "python",
   "nbconvert_exporter": "python",
   "pygments_lexer": "ipython3",
   "version": "3.10.12"
  }
 },
 "nbformat": 4,
 "nbformat_minor": 2
}
